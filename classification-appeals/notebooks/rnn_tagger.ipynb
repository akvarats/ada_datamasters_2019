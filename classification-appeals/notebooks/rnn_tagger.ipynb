{
 "cells": [
  {
   "cell_type": "code",
   "execution_count": 85,
   "metadata": {},
   "outputs": [],
   "source": [
    "import gensim\n",
    "import datetime"
   ]
  },
  {
   "cell_type": "code",
   "execution_count": 57,
   "metadata": {},
   "outputs": [],
   "source": [
    "# Использование другого таггера для вычисления частей речи\n",
    "\n",
    "from typing import List\n",
    "from rnnmorph.predictor import RNNMorphPredictor\n",
    "\n",
    "\n",
    "def morph_words(words: List[str], predictor: RNNMorphPredictor):\n",
    "    \"\"\" \n",
    "    Постановка слова в начальную форму и вычисление части речи \n",
    "    \n",
    "    @param predictor: предиктор (RNNMorphPredictor)\n",
    "    @param word: список строк со словами из предложения\n",
    "    \"\"\"\n",
    "    morphs = predictor.predict(words)\n",
    "    \n",
    "    result = []\n",
    "    for m in morphs:\n",
    "        result.append((m.normal_form, m.pos))\n",
    "    \n",
    "    return result"
   ]
  },
  {
   "cell_type": "code",
   "execution_count": 79,
   "metadata": {},
   "outputs": [
    {
     "name": "stderr",
     "output_type": "stream",
     "text": [
      "/home/akvarats/dev/ai/ada_datamasters_2019/classification-appeals/.venv/lib/python3.6/site-packages/smart_open/smart_open_lib.py:398: UserWarning: This function is deprecated, use smart_open.open instead. See the migration notes for details: https://github.com/RaRe-Technologies/smart_open/blob/master/README.rst#migrating-to-the-new-open-function\n",
      "  'See the migration notes for details: %s' % _MIGRATION_NOTES_URL\n"
     ]
    }
   ],
   "source": [
    "predictor = RNNMorphPredictor(language=\"ru\")\n",
    "model = gensim.models.KeyedVectors.load_word2vec_format(\"../models/180/model.bin\", binary=True)"
   ]
  },
  {
   "cell_type": "code",
   "execution_count": 75,
   "metadata": {},
   "outputs": [],
   "source": [
    "import nltk\n",
    "import string\n",
    "\n",
    "def get_clean_rusvectores_words(text: str, predictor: RNNMorphPredictor, word2vec_model):\n",
    "    \"\"\" \"\"\"\n",
    "    result = []\n",
    "    \n",
    "    for punct in string.punctuation:\n",
    "        text = text.replace(punct, \" \")\n",
    "    \n",
    "    morphs = morph_words(nltk.word_tokenize(text, language=\"russian\"), predictor)\n",
    "    \n",
    "    for morph in morphs:\n",
    "        rv_word = \"{0}_{1}\".format(morph[0], morph[1])\n",
    "        if rv_word in model.wv:\n",
    "            result.append(rv_word)\n",
    "    \n",
    "    return result"
   ]
  },
  {
   "cell_type": "code",
   "execution_count": 95,
   "metadata": {},
   "outputs": [
    {
     "name": "stderr",
     "output_type": "stream",
     "text": [
      "/home/akvarats/dev/ai/ada_datamasters_2019/classification-appeals/.venv/lib/python3.6/site-packages/ipykernel_launcher.py:15: DeprecationWarning: Call to deprecated `wv` (Attribute will be removed in 4.0.0, use self instead).\n",
      "  from ipykernel import kernelapp as app\n"
     ]
    },
    {
     "name": "stdout",
     "output_type": "stream",
     "text": [
      "Corpus loaded: 88.472 sec\n"
     ]
    }
   ],
   "source": [
    "import csv\n",
    "\n",
    "def read_corpus(file_path):\n",
    "    \"\"\" Читает корпус начального текста \"\"\"\n",
    "    result = []\n",
    "\n",
    "    with open(file_path) as csv_file:\n",
    "        csv_reader = csv.reader(csv_file)\n",
    "        next(csv_reader)  # skip header\n",
    "        for row in csv_reader:\n",
    "            orig_text = row[1]\n",
    "            cleaned_rusvectores_words = get_clean_rusvectores_words(orig_text, predictor, model)\n",
    "            if cleaned_rusvectores_words:\n",
    "                result.append(\n",
    "                    dict(\n",
    "                        id=row[0],\n",
    "                        orig_text=orig_text,\n",
    "                        category=row[2],\n",
    "                        theme=row[3],\n",
    "                        executor=row[4],\n",
    "                        cleaned_rusvectores_words=cleaned_rusvectores_words\n",
    "                    )\n",
    "                )\n",
    "\n",
    "    return result\n",
    "\n",
    "t = datetime.datetime.now()\n",
    "corpus = read_corpus(\"../input/NashDomRyazan-29-03-2019.csv\")\n",
    "print(\"Corpus loaded: {0:.3f} sec\".format((datetime.datetime.now() - t).total_seconds()))"
   ]
  },
  {
   "cell_type": "code",
   "execution_count": 118,
   "metadata": {},
   "outputs": [],
   "source": [
    "from sklearn.metrics import pairwise_distances\n",
    "\n",
    "def get_distance_matrix_for_corpus(corpus):\n",
    "    \"\"\" \"\"\"\n",
    "    X = [[i] for i in range(0, len(corpus))]\n",
    "    \n",
    "    distance = lambda x, y: model.wmdistance(corpus[int(x[0])][\"cleaned_rusvectores_words\"], corpus[int(y[0])][\"cleaned_rusvectores_words\"])\n",
    "    \n",
    "    return pairwise_distances(X, metric=distance, n_jobs=24)"
   ]
  },
  {
   "cell_type": "code",
   "execution_count": null,
   "metadata": {},
   "outputs": [],
   "source": [
    "t = datetime.datetime.now()\n",
    "D = get_distance_matrix_for_corpus(corpus[:-10])\n",
    "print(\"Distance matrix: {0:.3f} sec\".format((datetime.datetime.now() - t).total_seconds()))"
   ]
  },
  {
   "cell_type": "code",
   "execution_count": 115,
   "metadata": {},
   "outputs": [],
   "source": [
    "crp = corpus[:-10]\n",
    "\n",
    "targets = []\n",
    "categories = dict()  # name -> index\n",
    "for row in corpus:\n",
    "    if row[\"category\"] not in categories:\n",
    "        categories[row[\"category\"]] = len(categories)\n",
    "    targets.append(categories[row[\"category\"]])"
   ]
  },
  {
   "cell_type": "code",
   "execution_count": 116,
   "metadata": {},
   "outputs": [
    {
     "data": {
      "text/plain": [
       "{'Дворовая территория': 0,\n",
       " 'Парковки': 1,\n",
       " 'Дороги': 2,\n",
       " 'Городская территория': 3,\n",
       " 'Остановки общественного транспорта': 4,\n",
       " 'Государственное управление и местное самоуправление': 5,\n",
       " 'Образование (школы, детские сады)': 6,\n",
       " 'Многоквартирные дома': 7,\n",
       " 'Бизнес': 8,\n",
       " 'Природные ресурсы и охрана окружающей среды': 9,\n",
       " 'ЖКХ': 10,\n",
       " 'Многофункциональные центры (МФЦ)': 11,\n",
       " 'Здравоохранение, поликлиники': 12,\n",
       " 'Трудоустройство': 13,\n",
       " 'Физическая культура и спорт': 14,\n",
       " 'Права дольщиков и вопросы переселения': 15,\n",
       " 'Социальная защита': 16,\n",
       " 'Общественный транспорт': 17,\n",
       " 'Культура': 18,\n",
       " 'Торговля, товары, услуги': 19,\n",
       " 'Лесное хозяйство': 20,\n",
       " 'Земельные правоотношения': 21,\n",
       " 'Общественная безопасность': 22,\n",
       " 'СМИ': 23,\n",
       " 'Тестовая категория': 24,\n",
       " 'Банковская деятельность': 25,\n",
       " 'Парки': 26,\n",
       " 'Строительство': 27,\n",
       " 'Ярмарки выходного дня': 28,\n",
       " 'Туризм': 29}"
      ]
     },
     "execution_count": 116,
     "metadata": {},
     "output_type": "execute_result"
    }
   ],
   "source": [
    "categories"
   ]
  },
  {
   "cell_type": "code",
   "execution_count": 113,
   "metadata": {},
   "outputs": [
    {
     "data": {
      "text/plain": [
       "KNeighborsClassifier(algorithm='auto', leaf_size=30, metric='precomputed',\n",
       "                     metric_params=None, n_jobs=None, n_neighbors=5, p=2,\n",
       "                     weights='uniform')"
      ]
     },
     "execution_count": 113,
     "metadata": {},
     "output_type": "execute_result"
    }
   ],
   "source": [
    "from sklearn.neighbors import KNeighborsClassifier\n",
    "\n",
    "knc = KNeighborsClassifier(n_neighbors=5, metric=\"precomputed\")\n",
    "\n",
    "knc.fit(D, targets)"
   ]
  },
  {
   "cell_type": "code",
   "execution_count": 2,
   "metadata": {},
   "outputs": [
    {
     "ename": "NameError",
     "evalue": "name 'get_clean_rusvectores_words' is not defined",
     "output_type": "error",
     "traceback": [
      "\u001b[0;31m---------------------------------------------------------------------------\u001b[0m",
      "\u001b[0;31mNameError\u001b[0m                                 Traceback (most recent call last)",
      "\u001b[0;32m<ipython-input-2-1728c65dd936>\u001b[0m in \u001b[0;36m<module>\u001b[0;34m\u001b[0m\n\u001b[1;32m     11\u001b[0m \"\"\"\n\u001b[1;32m     12\u001b[0m \u001b[0;34m\u001b[0m\u001b[0m\n\u001b[0;32m---> 13\u001b[0;31m \u001b[0mtest_vectors\u001b[0m \u001b[0;34m=\u001b[0m \u001b[0mget_clean_rusvectores_words\u001b[0m\u001b[0;34m(\u001b[0m\u001b[0mtext\u001b[0m\u001b[0;34m,\u001b[0m \u001b[0mpredictor\u001b[0m\u001b[0;34m,\u001b[0m \u001b[0mmodel\u001b[0m\u001b[0;34m)\u001b[0m\u001b[0;34m\u001b[0m\u001b[0;34m\u001b[0m\u001b[0m\n\u001b[0m\u001b[1;32m     14\u001b[0m \u001b[0;34m\u001b[0m\u001b[0m\n\u001b[1;32m     15\u001b[0m \u001b[0mtest_distances\u001b[0m \u001b[0;34m=\u001b[0m \u001b[0;34m[\u001b[0m\u001b[0mmodel\u001b[0m\u001b[0;34m.\u001b[0m\u001b[0mwmdistance\u001b[0m\u001b[0;34m(\u001b[0m\u001b[0mtest_vectors\u001b[0m\u001b[0;34m,\u001b[0m \u001b[0mc\u001b[0m\u001b[0;34m[\u001b[0m\u001b[0;34m\"cleaned_rusvectores_words\"\u001b[0m\u001b[0;34m]\u001b[0m\u001b[0;34m)\u001b[0m \u001b[0;32mfor\u001b[0m \u001b[0mc\u001b[0m \u001b[0;32min\u001b[0m \u001b[0mcrp\u001b[0m\u001b[0;34m]\u001b[0m\u001b[0;34m\u001b[0m\u001b[0;34m\u001b[0m\u001b[0m\n",
      "\u001b[0;31mNameError\u001b[0m: name 'get_clean_rusvectores_words' is not defined"
     ]
    }
   ],
   "source": [
    "text = \"\"\"Добрый день.\n",
    "В зимний период 2018-2019 в 5 микрорайоне Дашково-Песочня, в центре которого расположена самая большая школа №75, рассчитанная 1500 учащихся, в ходе выпадения осадков образовались снежные заносы на проезжей части, тротуарах и пешеходных переходах, ведущих к школе, которые мешают движению автомобилей, привозящих и увозящих детей на обучение. А так же идущих детей пешим ходом как одних, так и в сопровождении родителей. Ежедневно в утренние и дневное время в школу направляются в среднем около 5000 человек, для которых затруднено движение в направлении школы и обратно.\n",
    "\n",
    "Прошу Вас произвести уборку снега с дальнейшим вывозом с проезжей части и тротуаров на улицах:\n",
    "- Васильевский проезд\n",
    "- Васильевский переулок\n",
    "- Васильевская улица\n",
    "Фото с ежедневной ситуацией в районе школы №75 прилагаю.\n",
    "https://yadi.sk/d/BE2SvGNigwXG0w\n",
    "Прилагаю ответ из управления благоустройства города.\n",
    "\"\"\"\n",
    "\n",
    "test_vectors = get_clean_rusvectores_words(text, predictor, model)\n",
    "\n",
    "test_distances = [model.wmdistance(test_vectors, c[\"cleaned_rusvectores_words\"]) for c in crp]\n",
    "\n",
    "result = knc.predict_proba([test_distances])\n",
    "\n",
    "result"
   ]
  },
  {
   "cell_type": "code",
   "execution_count": 1,
   "metadata": {},
   "outputs": [
    {
     "ename": "NameError",
     "evalue": "name 'result' is not defined",
     "output_type": "error",
     "traceback": [
      "\u001b[0;31m---------------------------------------------------------------------------\u001b[0m",
      "\u001b[0;31mNameError\u001b[0m                                 Traceback (most recent call last)",
      "\u001b[0;32m<ipython-input-1-2c43f6f8ed53>\u001b[0m in \u001b[0;36m<module>\u001b[0;34m\u001b[0m\n\u001b[0;32m----> 1\u001b[0;31m \u001b[0mresult\u001b[0m\u001b[0;34m[\u001b[0m\u001b[0;36m0\u001b[0m\u001b[0;34m]\u001b[0m\u001b[0;34m\u001b[0m\u001b[0;34m\u001b[0m\u001b[0m\n\u001b[0m",
      "\u001b[0;31mNameError\u001b[0m: name 'result' is not defined"
     ]
    }
   ],
   "source": [
    "result[0]"
   ]
  },
  {
   "cell_type": "code",
   "execution_count": 4,
   "metadata": {},
   "outputs": [],
   "source": [
    "import numpy as np\n",
    "a = np.array([[1, 2, 3, 4, 5]])"
   ]
  },
  {
   "cell_type": "code",
   "execution_count": 6,
   "metadata": {},
   "outputs": [
    {
     "data": {
      "text/plain": [
       "5"
      ]
     },
     "execution_count": 6,
     "metadata": {},
     "output_type": "execute_result"
    }
   ],
   "source": [
    "a[0][4]"
   ]
  },
  {
   "cell_type": "code",
   "execution_count": null,
   "metadata": {},
   "outputs": [],
   "source": []
  }
 ],
 "metadata": {
  "kernelspec": {
   "display_name": "Python 3",
   "language": "python",
   "name": "python3"
  },
  "language_info": {
   "codemirror_mode": {
    "name": "ipython",
    "version": 3
   },
   "file_extension": ".py",
   "mimetype": "text/x-python",
   "name": "python",
   "nbconvert_exporter": "python",
   "pygments_lexer": "ipython3",
   "version": "3.6.8"
  }
 },
 "nbformat": 4,
 "nbformat_minor": 4
}
